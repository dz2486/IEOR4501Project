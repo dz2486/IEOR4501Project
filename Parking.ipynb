{
 "cells": [
  {
   "cell_type": "code",
   "execution_count": 33,
   "id": "c0f75822-311a-4328-b117-e40dabc4adaf",
   "metadata": {},
   "outputs": [
    {
     "data": {
      "text/plain": [
       "False"
      ]
     },
     "execution_count": 33,
     "metadata": {},
     "output_type": "execute_result"
    }
   ],
   "source": [
    "import pandas as pd\n",
    "\n",
    "csv_FileName = \"311_Service_Requests_2020.csv\"\n",
    "lookup_zip = \"10036\"\n",
    "incident_type = \"Illegal Parking\"\n",
    "\n",
    "df = pd.read_csv(csv_FileName, dtype=\"str\")\n",
    "\n",
    "#Filtering for Specific Incident Type\n",
    "spec_incident = df[df[\"Complaint Type\"] == incident_type]\n",
    "\n",
    "#Filtering Specific Incident by Zip Code\n",
    "zip_incident = spec_incident[specific_incident[\"Incident Zip\"] == lookup_zip]\n",
    "\n",
    "#Counting Specific Incident by Zip Code\n",
    "incident_count = zip_incident[\"Incident Zip\"].count()\n",
    "\n",
    "#Counting all incidents in Zip Code\n",
    "zip_total_incidents = df[df[\"Incident Zip\"] == lookup_zip][\"Complaint Type\"].count()\n",
    "\n",
    "#Fraction of Specific Incident over Total Incidents in Zip Code\n",
    "zip_fraction = incident_count / zip_total_incidents\n",
    "\n",
    "total_spec_incident = spec_incident[\"Complaint Type\"].count()\n",
    "total_incidents = df[\"Complaint Type\"].count()\n",
    "total_fraction = total_spec_incident / total_incidents\n",
    "\n",
    "higher_parking_proportion = zip_fraction > total_fraction\n",
    "higher_parking_proportion"
   ]
  },
  {
   "cell_type": "code",
   "execution_count": null,
   "id": "e6a24ae4-60d4-42f8-bece-d0f7e3c16f80",
   "metadata": {},
   "outputs": [],
   "source": []
  }
 ],
 "metadata": {
  "kernelspec": {
   "display_name": "Python 3",
   "language": "python",
   "name": "python3"
  },
  "language_info": {
   "codemirror_mode": {
    "name": "ipython",
    "version": 3
   },
   "file_extension": ".py",
   "mimetype": "text/x-python",
   "name": "python",
   "nbconvert_exporter": "python",
   "pygments_lexer": "ipython3",
   "version": "3.8.8"
  }
 },
 "nbformat": 4,
 "nbformat_minor": 5
}
